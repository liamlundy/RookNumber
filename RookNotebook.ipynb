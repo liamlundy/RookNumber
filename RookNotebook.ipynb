{
 "cells": [
  {
   "cell_type": "code",
   "execution_count": 1,
   "metadata": {
    "collapsed": false
   },
   "outputs": [],
   "source": [
    "from sim import Simulation"
   ]
  },
  {
   "cell_type": "code",
   "execution_count": 8,
   "metadata": {
    "collapsed": false
   },
   "outputs": [],
   "source": [
    "sim = Simulation(display=True, find_k_rooks=True)"
   ]
  },
  {
   "cell_type": "code",
   "execution_count": 9,
   "metadata": {
    "collapsed": false
   },
   "outputs": [
    {
     "name": "stdout",
     "output_type": "stream",
     "text": [
      "Now Running Rook Number Simulation for K Rooks\n",
      "Rows: 2, Cols: 2\n",
      "\n",
      "Board number: 1\n",
      "|x| |\n",
      "| |x|\n",
      "\n",
      "\n",
      "Board number: 2\n",
      "|x| |\n",
      "| | |\n",
      "\n",
      "\n",
      "Board number: 3\n",
      "| |x|\n",
      "|x| |\n",
      "\n",
      "\n",
      "Board number: 4\n",
      "| |x|\n",
      "| | |\n",
      "\n",
      "\n",
      "Board number: 5\n",
      "| | |\n",
      "|x| |\n",
      "\n",
      "\n",
      "Board number: 6\n",
      "| | |\n",
      "| |x|\n",
      "\n",
      "\n",
      "Board number: 7\n",
      "| | |\n",
      "| | |\n",
      "\n",
      "\n",
      "The Rook Number for a 2 x 2 board is 7\n"
     ]
    }
   ],
   "source": [
    "sim.run(2, 2)"
   ]
  },
  {
   "cell_type": "code",
   "execution_count": null,
   "metadata": {
    "collapsed": true
   },
   "outputs": [],
   "source": [
    "sim.run(5, 5)"
   ]
  }
 ],
 "metadata": {
  "anaconda-cloud": {},
  "kernelspec": {
   "display_name": "Python [conda env:rooknumber]",
   "language": "python",
   "name": "conda-env-rooknumber-py"
  },
  "language_info": {
   "codemirror_mode": {
    "name": "ipython",
    "version": 3.0
   },
   "file_extension": ".py",
   "mimetype": "text/x-python",
   "name": "python",
   "nbconvert_exporter": "python",
   "pygments_lexer": "ipython3",
   "version": "3.5.2"
  }
 },
 "nbformat": 4,
 "nbformat_minor": 0
}